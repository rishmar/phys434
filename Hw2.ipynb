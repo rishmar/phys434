{
 "cells": [
  {
   "cell_type": "code",
   "execution_count": 12,
   "id": "b3d1909d-4dd3-42fc-9057-8b303427d8b7",
   "metadata": {},
   "outputs": [],
   "source": [
    "import random\n",
    "import numpy as np\n",
    "import pandas as pd\n",
    "import matplotlib.pyplot as plt\n",
    "from scipy import stats"
   ]
  },
  {
   "cell_type": "markdown",
   "id": "a70bbda6-0934-4e50-a513-2a4025b99f52",
   "metadata": {},
   "source": [
    "# Problem 1"
   ]
  },
  {
   "cell_type": "raw",
   "id": "9fa3fb8f-5976-4fb0-96f8-393447308d61",
   "metadata": {},
   "source": [
    "Probability of snake eyes: 1/6 * 1/6 = 1/36\n",
    "Probability of sum = 7: \n",
    "Dice1: 1,2,3,4,5,6\n",
    "Dice2: 1,2,3,4,5,6\n",
    "P = 6/36"
   ]
  },
  {
   "cell_type": "markdown",
   "id": "189971b4-5dfc-4295-8c43-4d6570e21957",
   "metadata": {},
   "source": [
    "# Problem 2"
   ]
  },
  {
   "cell_type": "raw",
   "id": "e82e4458-707a-41ca-8e79-5c5d9faf3e6c",
   "metadata": {},
   "source": [
    "The probability of sum:"
   ]
  },
  {
   "cell_type": "code",
   "execution_count": 14,
   "id": "d089c577-336d-4b42-a3f7-cf289034ee07",
   "metadata": {},
   "outputs": [
    {
     "data": {
      "text/html": [
       "<div>\n",
       "<style scoped>\n",
       "    .dataframe tbody tr th:only-of-type {\n",
       "        vertical-align: middle;\n",
       "    }\n",
       "\n",
       "    .dataframe tbody tr th {\n",
       "        vertical-align: top;\n",
       "    }\n",
       "\n",
       "    .dataframe thead th {\n",
       "        text-align: right;\n",
       "    }\n",
       "</style>\n",
       "<table border=\"1\" class=\"dataframe\">\n",
       "  <thead>\n",
       "    <tr style=\"text-align: right;\">\n",
       "      <th></th>\n",
       "      <th>Sum</th>\n",
       "      <th>Probability</th>\n",
       "    </tr>\n",
       "  </thead>\n",
       "  <tbody>\n",
       "    <tr>\n",
       "      <th>0</th>\n",
       "      <td>1.0</td>\n",
       "      <td>0.000000</td>\n",
       "    </tr>\n",
       "    <tr>\n",
       "      <th>1</th>\n",
       "      <td>2.0</td>\n",
       "      <td>0.027778</td>\n",
       "    </tr>\n",
       "    <tr>\n",
       "      <th>2</th>\n",
       "      <td>3.0</td>\n",
       "      <td>0.055556</td>\n",
       "    </tr>\n",
       "    <tr>\n",
       "      <th>3</th>\n",
       "      <td>4.0</td>\n",
       "      <td>0.083333</td>\n",
       "    </tr>\n",
       "    <tr>\n",
       "      <th>4</th>\n",
       "      <td>5.0</td>\n",
       "      <td>0.111111</td>\n",
       "    </tr>\n",
       "    <tr>\n",
       "      <th>5</th>\n",
       "      <td>6.0</td>\n",
       "      <td>0.138889</td>\n",
       "    </tr>\n",
       "    <tr>\n",
       "      <th>6</th>\n",
       "      <td>7.0</td>\n",
       "      <td>0.166667</td>\n",
       "    </tr>\n",
       "    <tr>\n",
       "      <th>7</th>\n",
       "      <td>8.0</td>\n",
       "      <td>0.138889</td>\n",
       "    </tr>\n",
       "    <tr>\n",
       "      <th>8</th>\n",
       "      <td>9.0</td>\n",
       "      <td>0.111111</td>\n",
       "    </tr>\n",
       "    <tr>\n",
       "      <th>9</th>\n",
       "      <td>10.0</td>\n",
       "      <td>0.083333</td>\n",
       "    </tr>\n",
       "    <tr>\n",
       "      <th>10</th>\n",
       "      <td>11.0</td>\n",
       "      <td>0.055556</td>\n",
       "    </tr>\n",
       "    <tr>\n",
       "      <th>11</th>\n",
       "      <td>12.0</td>\n",
       "      <td>0.027778</td>\n",
       "    </tr>\n",
       "  </tbody>\n",
       "</table>\n",
       "</div>"
      ],
      "text/plain": [
       "     Sum  Probability\n",
       "0    1.0     0.000000\n",
       "1    2.0     0.027778\n",
       "2    3.0     0.055556\n",
       "3    4.0     0.083333\n",
       "4    5.0     0.111111\n",
       "5    6.0     0.138889\n",
       "6    7.0     0.166667\n",
       "7    8.0     0.138889\n",
       "8    9.0     0.111111\n",
       "9   10.0     0.083333\n",
       "10  11.0     0.055556\n",
       "11  12.0     0.027778"
      ]
     },
     "execution_count": 14,
     "metadata": {},
     "output_type": "execute_result"
    }
   ],
   "source": [
    "df = pd.DataFrame (np.array([[1,0], [2,1/36], [3,2/36], [4, 3/36], [5, 4/36], [6, 5/36], [7, 6/36], [8, 5/36], [9, 4/36],[10, 3/36], [11, 2/36], [12, 1/36]]), columns=['Sum', 'Probability'])\n",
    "df"
   ]
  },
  {
   "cell_type": "code",
   "execution_count": 21,
   "id": "c78468b6-6590-4e2c-9d33-242d94185bd1",
   "metadata": {},
   "outputs": [
    {
     "data": {
      "text/plain": [
       "<matplotlib.collections.LineCollection at 0x7f20448092b0>"
      ]
     },
     "execution_count": 21,
     "metadata": {},
     "output_type": "execute_result"
    },
    {
     "data": {
      "image/png": "[encoded data removed]",
      "text/plain": [
       "<Figure size 432x288 with 1 Axes>"
      ]
     },
     "metadata": {
      "needs_background": "light"
     },
     "output_type": "display_data"
    }
   ],
   "source": [
    "prob = np.array([1/6] * 6)\n",
    "sum_p = np.convolve(prob, prob)\n",
    "plt.xlabel(\"Sum\")\n",
    "plt.ylabel(\"Probability\")\n",
    "plt.title(\"Probability for sum of 2 dice\")\n",
    "plt.vlines(range(2, 13), 0, sum_p, linewidth = 7)"
   ]
  },
  {
   "cell_type": "markdown",
   "id": "f60ebcbc-905d-4453-9d9f-fd0018b376bc",
   "metadata": {},
   "source": [
    "# Problem 3"
   ]
  },
  {
   "cell_type": "code",
   "execution_count": 28,
   "id": "f7219ee3-e70d-4936-9582-703e468f55de",
   "metadata": {},
   "outputs": [
    {
     "data": {
      "text/plain": [
       "6.999999999999998"
      ]
     },
     "execution_count": 28,
     "metadata": {},
     "output_type": "execute_result"
    }
   ],
   "source": [
    "mean = np.sum (np.arange(2, 13) * sum_p)\n",
    "mean"
   ]
  },
  {
   "cell_type": "code",
   "execution_count": 30,
   "id": "7246caea-d81c-48fc-8924-34b8e6e139fd",
   "metadata": {},
   "outputs": [
    {
     "data": {
      "text/plain": [
       "5.833333333333333"
      ]
     },
     "execution_count": 30,
     "metadata": {},
     "output_type": "execute_result"
    }
   ],
   "source": [
    "variance = np.sum((np.arange(2, 13) - mean)**2 * sum_p)\n",
    "variance"
   ]
  },
  {
   "cell_type": "code",
   "execution_count": null,
   "id": "c682f9dc-65e2-4810-ae64-540a23bb7d50",
   "metadata": {},
   "outputs": [],
   "source": []
  }
 ],
 "metadata": {
  "kernelspec": {
   "display_name": "Python 3",
   "language": "python",
   "name": "python3"
  },
  "language_info": {
   "codemirror_mode": {
    "name": "ipython",
    "version": 3
   },
   "file_extension": ".py",
   "mimetype": "text/x-python",
   "name": "python",
   "nbconvert_exporter": "python",
   "pygments_lexer": "ipython3",
   "version": "3.8.8"
  }
 },
 "nbformat": 4,
 "nbformat_minor": 5
}
