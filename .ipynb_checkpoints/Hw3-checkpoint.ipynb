{
 "cells": [
  {
   "cell_type": "markdown",
   "id": "5e4cf47c-3adf-4182-9a77-9dc924e29d6b",
   "metadata": {},
   "source": [
    "# Problem 1"
   ]
  },
  {
   "cell_type": "markdown",
   "id": "b9603b27-2c13-433d-80cc-4756efac957a",
   "metadata": {},
   "source": [
    "**1.(a) Which algorithm makes the fewest mistakes?**"
   ]
  },
  {
   "cell_type": "markdown",
   "id": "97daab69-601c-4945-a0d1-2ab2e4161790",
   "metadata": {},
   "source": [
    "The first algorithm makes the fewest mistakes. The first one has 8 miscategorizations and the second one has 11+1 = 12 miscatergorizations."
   ]
  },
  {
   "cell_type": "markdown",
   "id": "fa69310c-46e5-4c1e-aeb7-69ae00b17a28",
   "metadata": {},
   "source": [
    "**1.(b) Which algorithm is better for the zoo? Explain.**"
   ]
  },
  {
   "cell_type": "markdown",
   "id": "0783d9ef-5585-447a-a27a-0f85745be470",
   "metadata": {},
   "source": [
    "The second one is better for zoo because it has lower miscategorization for birds. Since it is for zoo, the miscategorization for human is not that important. False bird identification is not so bad, but false person identification lets a bird escape and we don't want the bird to escape."
   ]
  },
  {
   "cell_type": "markdown",
   "id": "113dddde-f6db-4ae4-ad83-6c5e614b698b",
   "metadata": {},
   "source": [
    "**1.(c) During the pandemic the number of visitors plummets, and it is only the zoo keeper visiting. So instead of 52% of the photos taken at the aviary door being people, it is now only 1%. Make new truth tables for both algorithms.**\n"
   ]
  },
  {
   "cell_type": "markdown",
   "id": "b9e3db18-5bc2-4cf3-8c69-751ffb03ba83",
   "metadata": {},
   "source": [
    "Total is 100 photos, so now we have only 1% of photo is people."
   ]
  },
  {
   "cell_type": "code",
   "execution_count": 15,
   "id": "f7aa5720-f2b0-494e-a269-060b56243cd0",
   "metadata": {},
   "outputs": [
    {
     "name": "stdout",
     "output_type": "stream",
     "text": [
      "Requirement already satisfied: tabulate in /opt/conda/lib/python3.8/site-packages (0.8.9)\n",
      "Requirement already satisfied: python-markdown-math in /opt/conda/lib/python3.8/site-packages (0.8)\n",
      "Requirement already satisfied: Markdown>=3.0 in /opt/conda/lib/python3.8/site-packages (from python-markdown-math) (3.3.4)\n",
      "---------  ---------  -----------\n",
      "           True Bird  True Person\n",
      "NN Bird    94         0\n",
      "NN Person  5          1\n",
      "---------  ---------  -----------\n"
     ]
    }
   ],
   "source": [
    "! pip install tabulate\n",
    "! pip install python-markdown-math\n",
    "from tabulate import tabulate\n",
    "\n",
    "table = [['','True Bird','True Person'],['NN Bird','94','0'],['NN Person','5','1']]\n",
    "\n",
    "print(tabulate(table))"
   ]
  },
  {
   "cell_type": "code",
   "execution_count": 14,
   "id": "a65b7ae3-8ce6-4036-8953-fb4e848b4eb3",
   "metadata": {},
   "outputs": [
    {
     "name": "stdout",
     "output_type": "stream",
     "text": [
      "---------  ---------  -----------\n",
      "           True Bird  True Person\n",
      "NN Bird    97         0\n",
      "NN Person  2          1\n",
      "---------  ---------  -----------\n"
     ]
    }
   ],
   "source": [
    "table2 = [['','True Bird','True Person'],['NN Bird','97','0'],['NN Person','2','1']]\n",
    "\n",
    "print(tabulate(table2))"
   ]
  },
  {
   "cell_type": "markdown",
   "id": "3ead6283-6cce-4c67-975f-6ade555cf733",
   "metadata": {},
   "source": [
    "# Problem 2"
   ]
  },
  {
   "cell_type": "markdown",
   "id": "3561bcbe-dd2b-4b48-ad63-67c62e5e059f",
   "metadata": {},
   "source": [
    "**2.(a) What is the pdf of the sum of two identical exponential distributions?**"
   ]
  },
  {
   "cell_type": "markdown",
   "id": "ed18d8ca-23ce-400d-9c75-333a4ecbefcf",
   "metadata": {},
   "source": [
    "pdf of a exponential distribution is $f(x) = \\lambda e^{-\\lambda x}$, when we convolve two distribution we get $f_2(x) = \\int_0^u f(x) f(u-x) \\,dx = \\lambda^2 xe^{-\\lambda x}$. Convert it to gamma distribution, we get $\\alpha = 2$, $\\beta = \\lambda$"
   ]
  },
  {
   "cell_type": "markdown",
   "id": "854aeeeb-5248-445d-bdd3-14ffa31acaed",
   "metadata": {},
   "source": [
    "**2.(b) What is the pdf of the ratio of two zero-mean unity variance normal distributions  𝑋1/𝑋2 ?**"
   ]
  },
  {
   "cell_type": "markdown",
   "id": "359ba184-2852-4ae5-be07-69dd93061b52",
   "metadata": {},
   "source": [
    "the pdf of two gaussian distribution is $f(x) = \\frac{1}{2\\pi} e^{\\frac{-x^2}{2}} $.\n",
    "The pdf of the ratio of two zero mean unity variance normal distrbutions is a cauchy distribution because is symmetric about the origin.$Z = \\frac{X_1}{X_2}$. \n",
    "\n",
    "So we get $P_z(z) = \\frac{1}{2\\pi} \\frac{1}{\\frac{z^2+1}{2}} = \\frac{1}{\\pi(z^2+1) }$.\n",
    "\n",
    "Convert to cauchy distribution, we git $x-x_0=z$,  $\\gamma = 1$ "
   ]
  },
  {
   "cell_type": "markdown",
   "id": "a09bb20f-5144-45d7-b42a-5fc525bf2d9a",
   "metadata": {},
   "source": [
    "**2.(c) Mathematically this is given by  𝑋𝑖̂ +𝑌𝑗̂   where both  𝑋  and  𝑌  are drawn from 1D Gaussian distributions. If I measure the amplitude of this vector, what is its pdf?**"
   ]
  },
  {
   "cell_type": "markdown",
   "id": "7ea4f77c-9e99-4d04-9510-86f4e667efbb",
   "metadata": {},
   "source": [
    "Amplitude of a 2D gaussian vector: $Z = \\sqrt{X^2+Y^2}$"
   ]
  },
  {
   "cell_type": "markdown",
   "id": "9f7b9c55-2ef1-43d2-b843-13437be5bd22",
   "metadata": {},
   "source": [
    "The CDF of them: $C_z = \\frac{1}{2\\pi} \\int_0^{2\\pi} \\int_0^z e^{-0.5r^2} \\,rdrd\\theta$"
   ]
  },
  {
   "cell_type": "markdown",
   "id": "42964722-a394-4ca5-ae09-4685b6e982d0",
   "metadata": {},
   "source": [
    "probabililty distribution is the derivative of the CDF we got: $P_z = ze^{\\frac{-z^2}{2}}$"
   ]
  },
  {
   "cell_type": "markdown",
   "id": "c6fabe02-30a4-452c-ba9e-5b47b0ce21cb",
   "metadata": {},
   "source": [
    "$0<z<\\infty$"
   ]
  },
  {
   "cell_type": "markdown",
   "id": "8d13fb61-9e39-493e-9eff-f41ad527d4c3",
   "metadata": {},
   "source": [
    "Convert to rayleigh distribution we get $\\sigma = 1$"
   ]
  },
  {
   "cell_type": "code",
   "execution_count": null,
   "id": "d9b62978-de7a-4033-a94a-91981f55a387",
   "metadata": {},
   "outputs": [],
   "source": []
  },
  {
   "cell_type": "code",
   "execution_count": null,
   "id": "9df265e4-b1bf-4d2b-aa50-f73e230b8913",
   "metadata": {},
   "outputs": [],
   "source": []
  }
 ],
 "metadata": {
  "kernelspec": {
   "display_name": "Python 3",
   "language": "python",
   "name": "python3"
  },
  "language_info": {
   "codemirror_mode": {
    "name": "ipython",
    "version": 3
   },
   "file_extension": ".py",
   "mimetype": "text/x-python",
   "name": "python",
   "nbconvert_exporter": "python",
   "pygments_lexer": "ipython3",
   "version": "3.8.8"
  }
 },
 "nbformat": 4,
 "nbformat_minor": 5
}
