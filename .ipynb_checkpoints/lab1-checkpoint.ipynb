{
 "cells": [
  {
   "cell_type": "code",
   "execution_count": 2,
   "id": "be983d23-f5ec-4d87-9e25-164f1f72b7b5",
   "metadata": {},
   "outputs": [],
   "source": [
    "# Problem 1"
   ]
  },
  {
   "cell_type": "code",
   "execution_count": 3,
   "id": "59da1a9c-fb9a-44a7-8074-fa4b943af5d3",
   "metadata": {},
   "outputs": [],
   "source": [
    "import numpy as np\n",
    "import matplotlib\n",
    "import matplotlib.pyplot as plt\n",
    "import scipy\n",
    "from scipy import stats\n",
    "\n",
    "#this sets the size of the plot to something useful\n",
    "plt.rcParams[\"figure.figsize\"] = (15,10) "
   ]
  },
  {
   "cell_type": "code",
   "execution_count": 42,
   "id": "879e2abf-aab3-4a5e-b4f6-0317f7960a26",
   "metadata": {},
   "outputs": [
    {
     "data": {
      "text/plain": [
       "array([1.        , 1.22777778, 1.45555556, 1.68333333, 1.91111111,\n",
       "       2.13888889, 2.36666667, 2.59444444, 2.82222222, 3.05      ])"
      ]
     },
     "execution_count": 42,
     "metadata": {},
     "output_type": "execute_result"
    }
   ],
   "source": [
    "x = np.linspace(1, 3.05, num = 10)\n",
    "x"
   ]
  },
  {
   "cell_type": "code",
   "execution_count": 43,
   "id": "e1e3fea7-5ad5-4540-954d-f59e93c82772",
   "metadata": {},
   "outputs": [
    {
     "data": {
      "text/plain": [
       "array([0.84134475, 0.8902348 , 0.92724224, 0.95384471, 0.97200485,\n",
       "       0.98377767, 0.99102545, 0.9952628 , 0.99761539, 0.99885579])"
      ]
     },
     "execution_count": 43,
     "metadata": {},
     "output_type": "execute_result"
    }
   ],
   "source": [
    "d = stats.norm.cdf(x)\n",
    "d"
   ]
  },
  {
   "cell_type": "code",
   "execution_count": 44,
   "id": "e001e369-7d46-4ebe-9171-253662feb4cc",
   "metadata": {},
   "outputs": [
    {
     "data": {
      "text/plain": [
       "array([1.        , 1.22777778, 1.45555556, 1.68333333, 1.91111111,\n",
       "       2.13888889, 2.36666667, 2.59444444, 2.82222222, 3.05      ])"
      ]
     },
     "execution_count": 44,
     "metadata": {},
     "output_type": "execute_result"
    }
   ],
   "source": [
    "stats.norm.ppf(d)"
   ]
  },
  {
   "cell_type": "code",
   "execution_count": 45,
   "id": "d4debedc-0394-4e2c-bb1c-48b4b5f7fc76",
   "metadata": {},
   "outputs": [],
   "source": [
    "# It matches the z-values and the ppf command returns the right answer in terms of sigma.\n",
    "\n",
    "# Problem 2"
   ]
  },
  {
   "cell_type": "code",
   "execution_count": 46,
   "id": "f8c1f4e0-8b2b-4bae-ba28-3e938aa899eb",
   "metadata": {},
   "outputs": [
    {
     "data": {
      "image/png": "[encoded data removed]",
      "text/plain": [
       "<Figure size 1080x720 with 1 Axes>"
      ]
     },
     "metadata": {
      "needs_background": "light"
     },
     "output_type": "display_data"
    }
   ],
   "source": [
    "d = stats.expon.rvs(loc = 2.85, scale = 0.01, size = 100000)\n",
    "fig, ax = plt.subplots(1, 1)\n",
    "ax.hist(d, 50, density = True)\n",
    "plt.tick_params(labelsize = 24)\n",
    "plt.xlim([2.85, 3.05])\n",
    "x = np.linspace(2.85, 3.05, 100000)\n",
    "ax.plot(x, stats.expon.pdf(x, loc = 2.85, scale = 0.01), linewidth = 5, alpha = 0.7)\n",
    "plt.show()"
   ]
  },
  {
   "cell_type": "code",
   "execution_count": 47,
   "id": "6502c44e-3dc5-4e32-8349-e8ff936b370d",
   "metadata": {},
   "outputs": [],
   "source": [
    "# Problem 3\n",
    "# set the hypothetical measurment to 2.88\n",
    "n = 2.88\n",
    "# what is the possibility when data fall into the measure less than 2.88?"
   ]
  },
  {
   "cell_type": "code",
   "execution_count": 61,
   "id": "11115a03-d2de-4f91-b850-d4e3eb83d3b5",
   "metadata": {},
   "outputs": [
    {
     "data": {
      "text/plain": [
       "0.950212931632135"
      ]
     },
     "execution_count": 61,
     "metadata": {},
     "output_type": "execute_result"
    }
   ],
   "source": [
    "p = stats.expon.cdf(n, loc = 2.85, scale = 0.01)\n",
    "p"
   ]
  },
  {
   "cell_type": "code",
   "execution_count": 68,
   "id": "32580822-fe4b-46f1-a645-d8e17a2c4871",
   "metadata": {},
   "outputs": [
    {
     "data": {
      "text/plain": [
       "2.0007923809868267"
      ]
     },
     "execution_count": 68,
     "metadata": {},
     "output_type": "execute_result"
    }
   ],
   "source": [
    "# sigma = (x-mean)/sd\n",
    "value = stats.expon.ppf(p, loc = 2.85, scale = 0.01)\n",
    "\n",
    "sigma = (value - np.mean(d))/0.01\n",
    "sigma\n"
   ]
  },
  {
   "cell_type": "code",
   "execution_count": 62,
   "id": "54adb2a9-f2cc-4377-bcb9-a13a9dfbad1b",
   "metadata": {},
   "outputs": [
    {
     "data": {
      "text/plain": [
       "2.8599920761901316"
      ]
     },
     "execution_count": 62,
     "metadata": {},
     "output_type": "execute_result"
    }
   ],
   "source": [
    "np.mean(d)"
   ]
  },
  {
   "cell_type": "code",
   "execution_count": null,
   "id": "cf89d983-2a3c-4cb9-bda8-f702df5502fb",
   "metadata": {},
   "outputs": [],
   "source": []
  },
  {
   "cell_type": "code",
   "execution_count": null,
   "id": "a64ca86a-4644-41e1-905b-1bd57b6ac83b",
   "metadata": {},
   "outputs": [],
   "source": []
  }
 ],
 "metadata": {
  "kernelspec": {
   "display_name": "Python 3",
   "language": "python",
   "name": "python3"
  },
  "language_info": {
   "codemirror_mode": {
    "name": "ipython",
    "version": 3
   },
   "file_extension": ".py",
   "mimetype": "text/x-python",
   "name": "python",
   "nbconvert_exporter": "python",
   "pygments_lexer": "ipython3",
   "version": "3.8.8"
  }
 },
 "nbformat": 4,
 "nbformat_minor": 5
}
